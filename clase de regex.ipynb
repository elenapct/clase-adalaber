{
 "cells": [
  {
   "cell_type": "code",
   "execution_count": null,
   "metadata": {},
   "outputs": [],
   "source": [
    "# REGEX o expresiones regulares\n",
    "## usamos una libreria de python llamada re: import re\n",
    "## nos permite crear patrones y despues buscar coincidendia"
   ]
  },
  {
   "cell_type": "code",
   "execution_count": null,
   "metadata": {},
   "outputs": [],
   "source": [
    "re.search() #busca el patron dentro de una cadena y nos da la primera coincidencia que encuentre\n",
    "resultado = re.search (patron, texto) #esta seria la estructura\n",
    "re.match (patron, texto)\n",
    "re.split(patron, texto) #divide por el patron y lo elimina\n",
    "re.findall(patron, texto)"
   ]
  },
  {
   "cell_type": "code",
   "execution_count": null,
   "metadata": {},
   "outputs": [],
   "source": [
    "#Tiene una sintaxis concreta"
   ]
  }
 ],
 "metadata": {
  "kernelspec": {
   "display_name": "base",
   "language": "python",
   "name": "python3"
  },
  "language_info": {
   "name": "python",
   "version": "3.12.7"
  }
 },
 "nbformat": 4,
 "nbformat_minor": 2
}
