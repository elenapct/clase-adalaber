{
 "cells": [
  {
   "cell_type": "code",
   "execution_count": null,
   "metadata": {},
   "outputs": [],
   "source": [
    "# REGEX o expresiones regulares\n",
    "## usamos una libreria de python llamada re: import re\n",
    "## nos permite crear patrones y despues buscar coincidendia"
   ]
  },
  {
   "cell_type": "code",
   "execution_count": null,
   "metadata": {},
   "outputs": [],
   "source": [
    "re.search() #busca el patron dentro de una cadena y nos da la primera coincidencia que encuentre\n",
    "resultado = re.search (patron, texto) #esta seria la estructura\n",
    "re.match (patron, texto)\n",
    "re.split(patron, texto) #divide por el patron y lo elimina\n",
    "re.findall(patron, texto)"
   ]
  },
  {
   "cell_type": "code",
   "execution_count": null,
   "metadata": {},
   "outputs": [],
   "source": [
    "#Tiene una sintaxis concreta\n",
    "#re.search(), para que servia?\n"
   ]
  },
  {
   "cell_type": "markdown",
   "metadata": {},
   "source": [
    "import re #es para importar la libreria porque si no por defecto no esta\n",
    "#hay que usar la r siempre delante de la funcion para que nos reconozca "
   ]
  },
  {
   "cell_type": "code",
   "execution_count": 2,
   "metadata": {},
   "outputs": [],
   "source": [
    "import re"
   ]
  },
  {
   "cell_type": "code",
   "execution_count": 7,
   "metadata": {},
   "outputs": [
    {
     "name": "stdout",
     "output_type": "stream",
     "text": [
      "<re.Match object; span=(0, 6), match='Buenos'>\n"
     ]
    }
   ],
   "source": [
    "texto2 = \"Buenos dias, ¿que desean?\"\n",
    "resultado2 = re.match(r\"Buenos\", texto2)\n",
    "print(resultado2)"
   ]
  },
  {
   "cell_type": "code",
   "execution_count": null,
   "metadata": {},
   "outputs": [],
   "source": []
  }
 ],
 "metadata": {
  "kernelspec": {
   "display_name": "base",
   "language": "python",
   "name": "python3"
  },
  "language_info": {
   "codemirror_mode": {
    "name": "ipython",
    "version": 3
   },
   "file_extension": ".py",
   "mimetype": "text/x-python",
   "name": "python",
   "nbconvert_exporter": "python",
   "pygments_lexer": "ipython3",
   "version": "3.12.7"
  }
 },
 "nbformat": 4,
 "nbformat_minor": 2
}
