{
 "cells": [
  {
   "cell_type": "code",
   "execution_count": 10,
   "metadata": {},
   "outputs": [],
   "source": [
    "def saludar(nombre, apellido):\n",
    "    print(f\"hola, {nombre} {apellido}\")"
   ]
  },
  {
   "cell_type": "code",
   "execution_count": 11,
   "metadata": {},
   "outputs": [
    {
     "name": "stdout",
     "output_type": "stream",
     "text": [
      "hola, evelina martin\n"
     ]
    }
   ],
   "source": [
    "saludar(\"evelina\", \"martin\")"
   ]
  },
  {
   "cell_type": "code",
   "execution_count": 16,
   "metadata": {},
   "outputs": [],
   "source": [
    "def multiplicador(numero):\n",
    "    for i in range (0,11):\n",
    "        print(f\"{numero} x {i} = {numero*1}\")"
   ]
  },
  {
   "cell_type": "code",
   "execution_count": 17,
   "metadata": {},
   "outputs": [
    {
     "name": "stdout",
     "output_type": "stream",
     "text": [
      "5 x 0 = 5\n",
      "5 x 1 = 5\n",
      "5 x 2 = 5\n",
      "5 x 3 = 5\n",
      "5 x 4 = 5\n",
      "5 x 5 = 5\n",
      "5 x 6 = 5\n",
      "5 x 7 = 5\n",
      "5 x 8 = 5\n",
      "5 x 9 = 5\n",
      "5 x 10 = 5\n"
     ]
    }
   ],
   "source": [
    "tabla_del_5 = multiplicador(5)"
   ]
  }
 ],
 "metadata": {
  "kernelspec": {
   "display_name": "base",
   "language": "python",
   "name": "python3"
  },
  "language_info": {
   "codemirror_mode": {
    "name": "ipython",
    "version": 3
   },
   "file_extension": ".py",
   "mimetype": "text/x-python",
   "name": "python",
   "nbconvert_exporter": "python",
   "pygments_lexer": "ipython3",
   "version": "3.12.7"
  }
 },
 "nbformat": 4,
 "nbformat_minor": 2
}
