{
 "cells": [
  {
   "cell_type": "code",
   "execution_count": 10,
   "metadata": {},
   "outputs": [],
   "source": [
    "def saludar(nombre, apellido):\n",
    "    print(f\"hola, {nombre} {apellido}\")"
   ]
  },
  {
   "cell_type": "code",
   "execution_count": 11,
   "metadata": {},
   "outputs": [
    {
     "name": "stdout",
     "output_type": "stream",
     "text": [
      "hola, evelina martin\n"
     ]
    }
   ],
   "source": [
    "saludar(\"evelina\", \"martin\")"
   ]
  },
  {
   "cell_type": "code",
   "execution_count": 3,
   "metadata": {},
   "outputs": [],
   "source": [
    "def multiplicador(numero):\n",
    "    for i in range (0,11):\n",
    "        print(f\"{numero} x {i} = {numero*1}\")"
   ]
  },
  {
   "cell_type": "code",
   "execution_count": 17,
   "metadata": {},
   "outputs": [
    {
     "name": "stdout",
     "output_type": "stream",
     "text": [
      "5 x 0 = 5\n",
      "5 x 1 = 5\n",
      "5 x 2 = 5\n",
      "5 x 3 = 5\n",
      "5 x 4 = 5\n",
      "5 x 5 = 5\n",
      "5 x 6 = 5\n",
      "5 x 7 = 5\n",
      "5 x 8 = 5\n",
      "5 x 9 = 5\n",
      "5 x 10 = 5\n"
     ]
    }
   ],
   "source": [
    "tabla_del_5 = multiplicador(5)"
   ]
  },
  {
   "cell_type": "code",
   "execution_count": 4,
   "metadata": {},
   "outputs": [
    {
     "name": "stdout",
     "output_type": "stream",
     "text": [
      "9 x 0 = 9\n",
      "9 x 1 = 9\n",
      "9 x 2 = 9\n",
      "9 x 3 = 9\n",
      "9 x 4 = 9\n",
      "9 x 5 = 9\n",
      "9 x 6 = 9\n",
      "9 x 7 = 9\n",
      "9 x 8 = 9\n",
      "9 x 9 = 9\n",
      "9 x 10 = 9\n"
     ]
    }
   ],
   "source": [
    "tabla_del_9 = multiplicador(9)"
   ]
  },
  {
   "cell_type": "code",
   "execution_count": 6,
   "metadata": {},
   "outputs": [],
   "source": [
    "def conseguir_nota_media(nota1, nota2, nota3=5):\n",
    "    nota_media = (nota1+nota2+nota3)/3\n",
    "    return nota_media"
   ]
  },
  {
   "cell_type": "code",
   "execution_count": 7,
   "metadata": {},
   "outputs": [
    {
     "name": "stdout",
     "output_type": "stream",
     "text": [
      "4.0\n"
     ]
    }
   ],
   "source": [
    "nota = conseguir_nota_media(10,0,2)\n",
    "print(nota)"
   ]
  },
  {
   "cell_type": "code",
   "execution_count": 8,
   "metadata": {},
   "outputs": [],
   "source": [
    "def conseguir_media(*args): #la funcion args es cuanto no sabes cuantos datos le vas a pasar\n",
    "    media = sum(args)/len(args)\n",
    "    return media"
   ]
  },
  {
   "cell_type": "code",
   "execution_count": 9,
   "metadata": {},
   "outputs": [
    {
     "name": "stdout",
     "output_type": "stream",
     "text": [
      "6.5\n"
     ]
    }
   ],
   "source": [
    "notafinal = conseguir_media(3,8,5,10)\n",
    "print(notafinal)"
   ]
  }
 ],
 "metadata": {
  "kernelspec": {
   "display_name": "base",
   "language": "python",
   "name": "python3"
  },
  "language_info": {
   "codemirror_mode": {
    "name": "ipython",
    "version": 3
   },
   "file_extension": ".py",
   "mimetype": "text/x-python",
   "name": "python",
   "nbconvert_exporter": "python",
   "pygments_lexer": "ipython3",
   "version": "3.12.7"
  }
 },
 "nbformat": 4,
 "nbformat_minor": 2
}
